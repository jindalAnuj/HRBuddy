{
 "cells": [
  {
   "cell_type": "code",
   "execution_count": 5,
   "metadata": {},
   "outputs": [
    {
     "data": {
      "text/plain": [
       "True"
      ]
     },
     "execution_count": 5,
     "metadata": {},
     "output_type": "execute_result"
    }
   ],
   "source": [
    "## Retrieval augmented generation\n",
    "import os\n",
    "from dotenv import load_dotenv\n",
    "load_dotenv()"
   ]
  },
  {
   "cell_type": "code",
   "execution_count": 6,
   "metadata": {},
   "outputs": [],
   "source": [
    "os.environ[\"OPENAI_API_KEY\"]=os.getenv('OPENAI_API_KEY')"
   ]
  },
  {
   "cell_type": "code",
   "execution_count": 7,
   "metadata": {},
   "outputs": [],
   "source": [
    "from llama_index.core import VectorStoreIndex,SimpleDirectoryReader\n",
    "documents = SimpleDirectoryReader('data').load_data()"
   ]
  },
  {
   "cell_type": "code",
   "execution_count": 8,
   "metadata": {},
   "outputs": [
    {
     "data": {
      "text/plain": [
       "[Document(id_='ba934803-cc21-4d43-a3ca-3cc92d472332', embedding=None, metadata={'page_label': '1', 'file_name': 'Leave Policy.pdf', 'file_path': '/Users/anujjindal/AppDevelopment/p/HRBuddy/data/Leave Policy.pdf', 'file_type': 'application/pdf', 'file_size': 230562, 'creation_date': '2024-04-26', 'last_modified_date': '2024-04-26'}, excluded_embed_metadata_keys=['file_name', 'file_type', 'file_size', 'creation_date', 'last_modified_date', 'last_accessed_date'], excluded_llm_metadata_keys=['file_name', 'file_type', 'file_size', 'creation_date', 'last_modified_date', 'last_accessed_date'], relationships={}, text='Page  1 of 4   \\n \\nLEAVE  POLICY  \\n \\nDocument  History  \\nPolicy  Version  Policy  Distribution  Effective  Date  and Revision  \\n4.0 All Members  4th October  2022  \\n6th March  2023  \\n16th September  2023  \\n  \\n6th January 2024  \\n \\n \\nINTRODUCTION:  \\nPhysics Wallah  believes that members should have opportunities to enjoy time away from work to help balance their \\nprofessional and personal lives. The Company encourages all members to spend time with family for leisure, taking \\ncare of personal work,  or rest due  to medical reasons.  The policy outlines  the applicability,  rules  and procedures  with \\nregard to consumption and approval of leave.  \\n \\nOBJECTIVE:  \\nThis policy provides the members of Physics Wallah with time to rejuvenate themselves, reduce the stress of work, \\nbalance their work & personal lives, and recover from illness. Members need to use Darwin  Box for applying below \\nmentioned leaves as per terms and conditions mentioned in the Company P olicy . \\n \\nLEAVE  TYPES:  \\n \\nEL - Earned  Privileged  Leave  ML - Maternity  Leave  \\nPL - Paternity  Leave  UL - Unpaid  Leave  \\nCO - Compensatory  Off WL - Wedding  Leave  \\nBL - Birthday  Leave  FC - Female  Special  Care Leave  \\n \\n \\n EL WL ML BL PL FC \\n   Female   All male \\nMembers.   \\n   members   - 4 Days   \\n   according  to  falling   \\nEligibility  All All provisions  of All Members  immediately  All \\n Members.  Members  Maternity   before/after  / female  \\n   Benefit  Act  during  birth members  \\n   (For first  of child.   \\n   2  (For first 2  \\n   children)   Children)   \\n      Only  1 leave  \\nEntitlement  2 EL \\nPer \\nMonth  3 Days  180 Days  1 Day 4 Days  each month \\n(will lapse \\nevery  month  if \\nunconsumed)  \\n', start_char_idx=None, end_char_idx=None, text_template='{metadata_str}\\n\\n{content}', metadata_template='{key}: {value}', metadata_seperator='\\n'),\n",
       " Document(id_='056d2b22-a214-4d2d-a80c-ef9ae59ac63a', embedding=None, metadata={'page_label': '2', 'file_name': 'Leave Policy.pdf', 'file_path': '/Users/anujjindal/AppDevelopment/p/HRBuddy/data/Leave Policy.pdf', 'file_type': 'application/pdf', 'file_size': 230562, 'creation_date': '2024-04-26', 'last_modified_date': '2024-04-26'}, excluded_embed_metadata_keys=['file_name', 'file_type', 'file_size', 'creation_date', 'last_modified_date', 'last_accessed_date'], excluded_llm_metadata_keys=['file_name', 'file_type', 'file_size', 'creation_date', 'last_modified_date', 'last_accessed_date'], relationships={}, text='Page  2 of 4   \\n \\nNote:  To Avail  Wedding  Leave,  Paternity  Leave  and Maternity  Leave  your  gender  and marital  status  should \\nbe updated.  \\n \\n \\n➢  Compensatory Off : Comp -off will be credited  to only those  members  who have worked  on a paid holiday  or \\nweek -off. \\nMembers must make sure that you mark your attendance through Darwin Box on the same day and get it \\napproved  by Reporting  manager  to add Comp -off leave  to your Comp -Off Balance  on Darwin  Box. \\nPlease refer to the below mentioned links to know how to mark  attendance:  \\n \\n✓ Click  Here  to See how to mark  attendance  for members  who work  from  home  or work  in hybrid  mode  \\n✓  Click  Here  to see how to mark  attendance  for members  who are working  from  specific  \\nlocations (Vidyapeeth/Pathshala /Corporate Office/Branch Office/ Studio,Etc)  \\n✓ Click  here to see how to mark  backdated  attendance  \\n \\nPlease  note: Members  will not be able to mark  backdated  attendance  on Paid Holidays  or Week  offs via \\nDarwin Box. Kindly make  sure that you mark your attendance on the same working day.  \\n \\nYou can regularize  any pending  attendance  within  7 days  only. \\n \\n• The Reporting  Managers  can approve/reject  the Comp -off Requests  by following  the below  mentioned \\nsteps: “Log in to DarwinBox >Open Task Box > select Overtime/Comp -Off Request > \\nApprove/Reject .” \\n \\n• Once  Reporting  Manager  approves  members  Comp -Off request,  Member’s  comp -off leave  will be added  to \\nmember’s Comp Off balance which will be visible in the Leave tab of DarwinBox. You can follow these \\nsteps to  see comp off balance:  “Log in to DarwinBox  > On your  dashboard select  “Leave ” Tab>  Check out \\n“Comp Off” to know Leave balance .” \\n \\n• You can refer  to link  mentioned  ahead  to see how to mark  leaves.  Click  Here  to see how to  mark  Leave  \\nPurpose  / \\nNature  \\nAll \\nPurpose \\nLeave.  \\nFor \\nmember’s \\nself- \\nmarriage.  \\nFor pre & \\npost-natal \\ncare during \\npregnancy \\n& \\nconfinement.  \\nFor taking care \\nFor members  \\nSelf \\nBirthday.  \\nof matters \\npertaining  to \\nbirth of new  \\nborn.  \\nFor taking  care \\nand proper  rest \\nduring their \\nmenstrual  \\ncycle.  \\nEncashment  \\nMaximum  8 \\nLeaves can \\nbe encashed  \\nMaximum  8 \\nleaves can \\nbe \\ncarried  \\nforwarded  \\nNot \\nApplicable  Not Applicable  \\nNot \\nApplicabl \\ne \\nNot Applicable  Not Applicable  \\nAccumulation  \\nNot \\nApplicable  Not Applicable  \\nNot \\nApplicabl  \\ne \\nNot Applicable  Not Applicable  ', start_char_idx=None, end_char_idx=None, text_template='{metadata_str}\\n\\n{content}', metadata_template='{key}: {value}', metadata_seperator='\\n'),\n",
       " Document(id_='23dfe284-5433-4d8f-9d65-6d1592756870', embedding=None, metadata={'page_label': '3', 'file_name': 'Leave Policy.pdf', 'file_path': '/Users/anujjindal/AppDevelopment/p/HRBuddy/data/Leave Policy.pdf', 'file_type': 'application/pdf', 'file_size': 230562, 'creation_date': '2024-04-26', 'last_modified_date': '2024-04-26'}, excluded_embed_metadata_keys=['file_name', 'file_type', 'file_size', 'creation_date', 'last_modified_date', 'last_accessed_date'], excluded_llm_metadata_keys=['file_name', 'file_type', 'file_size', 'creation_date', 'last_modified_date', 'last_accessed_date'], relationships={}, text='Page  3 of 4  ➢  Earned  Leave  Encashment:  Earned  Leave  will be automatically  encashed  at the end of the financial  year \\naccording to conditions mentioned below.  \\n• At the end of financial  year,  according  to the earned  leave  balance  \\n1. Up to 8 EL  will be carried  forward.  \\n2. After  removing  Carried  forward  leaves,  from  remaining  balance  up to 8 leaves  will be encashed.  \\n3. After  removing  carried  forward  and encashed  leave,  all remaining  earned  leave  will lapse.  \\n• For Example:  \\n1. If a member  has 20 EL, then 8 leaves will  be carried  forward,  8 leaves  will be  encashed  and remaining  4 \\nleaves will be lapsed.  \\n2. If member has  12 EL, then 8 leaves  will be carried  forward  and 4 leaves  will be encashed.  \\n3. If member  has 7 EL, then all 7 leaves  will be carried  forward.  \\n \\n• Special  Notes : \\n1. The encashment  amount  will be calculated on  basic  component  of the CTC  for members.  \\n2. For Consultants,  40% of earned  gross  will be provided  for leave  encashment.  \\n3. Members  who have “No work  pattern”  or “single  punch”  shift assigned  in attendance  module  of \\nDarwinBox will not be eligible for Leave  encashment.  \\n4. Trainees  and Interns  are not eligible  for Leave  encashment.  \\n5. For Members  who resigned  in middle  of the financial  year,  Earned  leaves  up to 8 leaves  will be \\nencashed accordingly.  \\n \\nGENERAL REGULATIONS:  \\n \\nLeaves are offered as a privilege to Members to maintain work life balance hence before availing leaves \\nMember should  ensure  that there is nil impact on department and other relevant work. Members should avail \\nleave/s  with prior  permission of  reporting  manager  always  at least 1 week  in advance.  Leave/s  availed  without \\npermission will be considered as a wrong practice and those days will be marked as UL/Absent.  \\n \\n➢  Effective from 1st October 2023 , any new  member(except interns) joining the company will be able \\nto utilize only 1 Earned Leave (EL) per month during their probation period . After successful \\ncompletion  of the probation  period,  from  their date of confirmation  they will then be eligible  for two (2) \\nearned leave per month.  \\n➢  Effective from 1st October 2023 , members on probation shall not be eligible for Birthday leave, \\nFemale special care leave and Wedding leave. Upon Confirmation, the members will be eligible for the \\nabove mentioned leaves.  \\n \\n➢ Effective  from  1st October  2023 , any new Intern  will not be eligible  for any kind of Leave.  \\n➢  For Vidyapeeth  Faculties,  the faculty  member  must  apply  Earned  leave  before  Thursday  for the next week’s \\nplanned  leave.  Leave  applied  on/after  Thursday  will be considered  as unplanned/emergency  leave  and up to \\n3 unplanned/emergency instances will be accepted. After 3 unplanned/emergency instances, any further \\nunplanned/emergency  leaves applied will  be considered as unpaid  and salary will  be deducted accordingly.  \\n \\n➢ All leaves  will be added  on pro rata basis  excluding  wedding, maternity and  paternity  leave.  \\n \\n➢  Sandwich  Rule  – This rule states  that if a member  is absent  before  and after their weekly -off or holiday,  \\nthe weekly -off or the holiday will be considered as an unpaid leave. And these three days are considered \\nas unpaid. For example,  if a member’s  weekly -off is Sunday,  but the  member  did not mark  his attendance \\nor did not apply for leave  for Saturday and Monday then Sunday will also be considered as a Loss of Pay \\n(LOP).  ', start_char_idx=None, end_char_idx=None, text_template='{metadata_str}\\n\\n{content}', metadata_template='{key}: {value}', metadata_seperator='\\n'),\n",
       " Document(id_='ddd2cc02-3fb0-4f7b-bc17-6cf38cf633b4', embedding=None, metadata={'page_label': '4', 'file_name': 'Leave Policy.pdf', 'file_path': '/Users/anujjindal/AppDevelopment/p/HRBuddy/data/Leave Policy.pdf', 'file_type': 'application/pdf', 'file_size': 230562, 'creation_date': '2024-04-26', 'last_modified_date': '2024-04-26'}, excluded_embed_metadata_keys=['file_name', 'file_type', 'file_size', 'creation_date', 'last_modified_date', 'last_accessed_date'], excluded_llm_metadata_keys=['file_name', 'file_type', 'file_size', 'creation_date', 'last_modified_date', 'last_accessed_date'], relationships={}, text='Page  4 of 4   \\n➢  Maternity  Benefit  - This Leave  Policy  is aligned  to Maternity  Benefit  Act 2017.  All women  Members  who \\nhave completed  80 days of continuous  service  with the Organization are  eligible  for Maternity  Leave,  as per \\nthe Statutory Act. Maximum period of maternity leave on any one occasion is 26 weeks (with full pay).  \\nMaternity  Leave  may be combined  with other  entitlements  of leave.  This benefit  can be used only for  up \\nto two children.  \\n \\n➢  Members  need to use Darwin Box login to apply leaves. Taking approval of reporting manager on  applied \\nleave  is a responsibility  of a member,  hence  Member  must  ensure  timely  approval on  applied  leaves  before \\nclosing  of each month  attendance  cycle  (21st of Every  month)  otherwise  it will be considered  as UL/Absent.  \\n \\n➢  If an extension of leave is desired after the Members proceed on leave, scanned copy of a written \\napplication must be sent  over email to the reporting  manager  and concerned  supervisor well  in advance  \\nfor him/her  to reply  before  the expiry  of leave  already  granted. Any  absence,  beyond  sanctioned  leave,  will \\nbe treated as unauthorized absence and action  as deemed fit would be initiated against the Member.  \\n \\n➢ Leaves  availed  excess  of leave  balance  will be considered  as absent/unpaid  leave.  \\n \\n➢  Leaves are calculated on Financial Year basis i.e. from 1st April to 31st March. Two EL are credited at the \\nbeginning of each month and other leaves are credited as per reporting Manager approval based on nature of \\nevent.  \\n \\n➢  Even though 2 EL are credited in each month, leaves should be utilized consciously with proper planning as \\nleave entitlement is subject to completion of employment for the whole month. If employment is to end \\nbefore last day of the month by any reason, member is entitled for leaves on pro -rata basis. If leaves are \\nutilized  more than entitlement, amount would be recovered  during  full and final settlement on gross  salary  in \\nlieu of excess utilized leaves.  \\n \\n➢ An member  requiring  short -leave  of more  than two hours  must  apply  for a half-day leave.  \\n \\n➢ Pro-Rata formula  will be applicable  as follow  while  working  eligibility  at the time of joining  and leaving. \\no Days  Less Than  11 days – Nil Leaves,  Days  Between  11 to 20 – 1 EL, Days  more  than 20 – 2 ELs \\n \\n➢  Member  cannot  avail  leave/s  while  serving  notice  period,  absenteeism  during  notice  period  will be treated  as \\nabsent/UL as well as short of notice; amount will be recovered in full and final settlement in lieu of short \\nnotice on gross salary.  \\n \\nIf you have any doubts  or questions  regarding  leave  policy,  please  get in touch  with Payroll  Team  Email  ID - \\npayroll@pw.live  \\n \\n \\nAny changes in the above policy will be at the sole discretion of the Management . The policy is created for \\nenhancing good work culture for the members. Any  undue advantage taken by this policy by any member will be \\nreflecting  on individuals  work  ethics  and he/sh e can be terminated  by the misuse  of the same.  ', start_char_idx=None, end_char_idx=None, text_template='{metadata_str}\\n\\n{content}', metadata_template='{key}: {value}', metadata_seperator='\\n')]"
      ]
     },
     "execution_count": 8,
     "metadata": {},
     "output_type": "execute_result"
    }
   ],
   "source": [
    "documents"
   ]
  },
  {
   "cell_type": "code",
   "execution_count": 9,
   "metadata": {},
   "outputs": [
    {
     "name": "stderr",
     "output_type": "stream",
     "text": [
      "/Users/anujjindal/Library/Caches/pypoetry/virtualenvs/hrbuddy-6iBTTNaM-py3.12/lib/python3.12/site-packages/tqdm/auto.py:21: TqdmWarning: IProgress not found. Please update jupyter and ipywidgets. See https://ipywidgets.readthedocs.io/en/stable/user_install.html\n",
      "  from .autonotebook import tqdm as notebook_tqdm\n",
      "Parsing nodes: 100%|████████████████████████████████████████████████████████████████████████████████████████████████████| 4/4 [00:00<00:00, 1255.78it/s]\n",
      "Generating embeddings: 100%|██████████████████████████████████████████████████████████████████████████████████████████████| 4/4 [00:01<00:00,  3.25it/s]\n"
     ]
    }
   ],
   "source": [
    "index = VectorStoreIndex.from_documents(documents,show_progress=True)"
   ]
  },
  {
   "cell_type": "code",
   "execution_count": 10,
   "metadata": {},
   "outputs": [
    {
     "data": {
      "text/plain": [
       "<llama_index.core.indices.vector_store.base.VectorStoreIndex at 0x1661c4e60>"
      ]
     },
     "execution_count": 10,
     "metadata": {},
     "output_type": "execute_result"
    }
   ],
   "source": [
    "index"
   ]
  },
  {
   "cell_type": "code",
   "execution_count": 11,
   "metadata": {},
   "outputs": [
    {
     "data": {
      "text/plain": [
       "<llama_index.core.query_engine.retriever_query_engine.RetrieverQueryEngine at 0x167243440>"
      ]
     },
     "execution_count": 11,
     "metadata": {},
     "output_type": "execute_result"
    }
   ],
   "source": [
    "query_engine = index.as_query_engine()\n",
    "query_engine"
   ]
  },
  {
   "cell_type": "code",
   "execution_count": 15,
   "metadata": {},
   "outputs": [
    {
     "data": {
      "text/plain": [
       "Response(response='Earned Leave Encashment refers to the process where earned leave that has not been utilized by an employee is converted into monetary compensation at the end of the financial year based on specific conditions outlined in the policy.', source_nodes=[NodeWithScore(node=TextNode(id_='09a58a34-be4b-472b-8a86-3b19cdcd1139', embedding=None, metadata={'page_label': '3', 'file_name': 'Leave Policy.pdf', 'file_path': '/Users/anujjindal/AppDevelopment/p/HRBuddy/data/Leave Policy.pdf', 'file_type': 'application/pdf', 'file_size': 230562, 'creation_date': '2024-04-26', 'last_modified_date': '2024-04-26'}, excluded_embed_metadata_keys=['file_name', 'file_type', 'file_size', 'creation_date', 'last_modified_date', 'last_accessed_date'], excluded_llm_metadata_keys=['file_name', 'file_type', 'file_size', 'creation_date', 'last_modified_date', 'last_accessed_date'], relationships={<NodeRelationship.SOURCE: '1'>: RelatedNodeInfo(node_id='23dfe284-5433-4d8f-9d65-6d1592756870', node_type=<ObjectType.DOCUMENT: '4'>, metadata={'page_label': '3', 'file_name': 'Leave Policy.pdf', 'file_path': '/Users/anujjindal/AppDevelopment/p/HRBuddy/data/Leave Policy.pdf', 'file_type': 'application/pdf', 'file_size': 230562, 'creation_date': '2024-04-26', 'last_modified_date': '2024-04-26'}, hash='a009468258eafac87da86ef5cab860291a1f91e59fdaebf6ab8fb1655949efa0'), <NodeRelationship.PREVIOUS: '2'>: RelatedNodeInfo(node_id='080cd7cb-f9f3-419f-a540-325d319cada6', node_type=<ObjectType.TEXT: '1'>, metadata={'page_label': '2', 'file_name': 'Leave Policy.pdf', 'file_path': '/Users/anujjindal/AppDevelopment/p/HRBuddy/data/Leave Policy.pdf', 'file_type': 'application/pdf', 'file_size': 230562, 'creation_date': '2024-04-26', 'last_modified_date': '2024-04-26'}, hash='e32bcbfdb593a0683820ee0d6b8cf212f88f601b8a5ab1fe7112ecd828b350c6'), <NodeRelationship.NEXT: '3'>: RelatedNodeInfo(node_id='26d83684-2e07-4ee4-b54d-3c4f8ad8f76e', node_type=<ObjectType.TEXT: '1'>, metadata={}, hash='df794c85d6d4a72b341ba90c071a1acce91d2f37d08a3e63bc539f303fd2cdd5')}, text='Page  3 of 4  ➢  Earned  Leave  Encashment:  Earned  Leave  will be automatically  encashed  at the end of the financial  year \\naccording to conditions mentioned below.  \\n• At the end of financial  year,  according  to the earned  leave  balance  \\n1. Up to 8 EL  will be carried  forward.  \\n2. After  removing  Carried  forward  leaves,  from  remaining  balance  up to 8 leaves  will be encashed.  \\n3. After  removing  carried  forward  and encashed  leave,  all remaining  earned  leave  will lapse.  \\n• For Example:  \\n1. If a member  has 20 EL, then 8 leaves will  be carried  forward,  8 leaves  will be  encashed  and remaining  4 \\nleaves will be lapsed.  \\n2. If member has  12 EL, then 8 leaves  will be carried  forward  and 4 leaves  will be encashed.  \\n3. If member  has 7 EL, then all 7 leaves  will be carried  forward.  \\n \\n• Special  Notes : \\n1. The encashment  amount  will be calculated on  basic  component  of the CTC  for members.  \\n2. For Consultants,  40% of earned  gross  will be provided  for leave  encashment.  \\n3. Members  who have “No work  pattern”  or “single  punch”  shift assigned  in attendance  module  of \\nDarwinBox will not be eligible for Leave  encashment.  \\n4. Trainees  and Interns  are not eligible  for Leave  encashment.  \\n5. For Members  who resigned  in middle  of the financial  year,  Earned  leaves  up to 8 leaves  will be \\nencashed accordingly.  \\n \\nGENERAL REGULATIONS:  \\n \\nLeaves are offered as a privilege to Members to maintain work life balance hence before availing leaves \\nMember should  ensure  that there is nil impact on department and other relevant work. Members should avail \\nleave/s  with prior  permission of  reporting  manager  always  at least 1 week  in advance.  Leave/s  availed  without \\npermission will be considered as a wrong practice and those days will be marked as UL/Absent.  \\n \\n➢  Effective from 1st October 2023 , any new  member(except interns) joining the company will be able \\nto utilize only 1 Earned Leave (EL) per month during their probation period . After successful \\ncompletion  of the probation  period,  from  their date of confirmation  they will then be eligible  for two (2) \\nearned leave per month.  \\n➢  Effective from 1st October 2023 , members on probation shall not be eligible for Birthday leave, \\nFemale special care leave and Wedding leave. Upon Confirmation, the members will be eligible for the \\nabove mentioned leaves.  \\n \\n➢ Effective  from  1st October  2023 , any new Intern  will not be eligible  for any kind of Leave.  \\n➢  For Vidyapeeth  Faculties,  the faculty  member  must  apply  Earned  leave  before  Thursday  for the next week’s \\nplanned  leave.  Leave  applied  on/after  Thursday  will be considered  as unplanned/emergency  leave  and up to \\n3 unplanned/emergency instances will be accepted. After 3 unplanned/emergency instances, any further \\nunplanned/emergency  leaves applied will  be considered as unpaid  and salary will  be deducted accordingly.  \\n \\n➢ All leaves  will be added  on pro rata basis  excluding  wedding, maternity and  paternity  leave.  \\n \\n➢  Sandwich  Rule  – This rule states  that if a member  is absent  before  and after their weekly -off or holiday,  \\nthe weekly -off or the holiday will be considered as an unpaid leave. And these three days are considered \\nas unpaid. For example,  if a member’s  weekly -off is Sunday,  but the  member  did not mark  his attendance \\nor did not apply for leave  for Saturday and Monday then Sunday will also be considered as a Loss of Pay \\n(LOP).', start_char_idx=0, end_char_idx=3530, text_template='{metadata_str}\\n\\n{content}', metadata_template='{key}: {value}', metadata_seperator='\\n'), score=0.844845642783128), NodeWithScore(node=TextNode(id_='a668a316-977e-49f7-93c4-9c48b47eab83', embedding=None, metadata={'page_label': '1', 'file_name': 'Leave Policy.pdf', 'file_path': '/Users/anujjindal/AppDevelopment/p/HRBuddy/data/Leave Policy.pdf', 'file_type': 'application/pdf', 'file_size': 230562, 'creation_date': '2024-04-26', 'last_modified_date': '2024-04-26'}, excluded_embed_metadata_keys=['file_name', 'file_type', 'file_size', 'creation_date', 'last_modified_date', 'last_accessed_date'], excluded_llm_metadata_keys=['file_name', 'file_type', 'file_size', 'creation_date', 'last_modified_date', 'last_accessed_date'], relationships={<NodeRelationship.SOURCE: '1'>: RelatedNodeInfo(node_id='ba934803-cc21-4d43-a3ca-3cc92d472332', node_type=<ObjectType.DOCUMENT: '4'>, metadata={'page_label': '1', 'file_name': 'Leave Policy.pdf', 'file_path': '/Users/anujjindal/AppDevelopment/p/HRBuddy/data/Leave Policy.pdf', 'file_type': 'application/pdf', 'file_size': 230562, 'creation_date': '2024-04-26', 'last_modified_date': '2024-04-26'}, hash='d7106c3089c25d41172ac75201e5020311172f136b4c213b750fd23c1cd343ce'), <NodeRelationship.NEXT: '3'>: RelatedNodeInfo(node_id='080cd7cb-f9f3-419f-a540-325d319cada6', node_type=<ObjectType.TEXT: '1'>, metadata={}, hash='42d72cf1baf95ecb8208e74c8ab8498ca1f1e3c2fceae524b9520e32c8da5d4e')}, text='Page  1 of 4   \\n \\nLEAVE  POLICY  \\n \\nDocument  History  \\nPolicy  Version  Policy  Distribution  Effective  Date  and Revision  \\n4.0 All Members  4th October  2022  \\n6th March  2023  \\n16th September  2023  \\n  \\n6th January 2024  \\n \\n \\nINTRODUCTION:  \\nPhysics Wallah  believes that members should have opportunities to enjoy time away from work to help balance their \\nprofessional and personal lives. The Company encourages all members to spend time with family for leisure, taking \\ncare of personal work,  or rest due  to medical reasons.  The policy outlines  the applicability,  rules  and procedures  with \\nregard to consumption and approval of leave.  \\n \\nOBJECTIVE:  \\nThis policy provides the members of Physics Wallah with time to rejuvenate themselves, reduce the stress of work, \\nbalance their work & personal lives, and recover from illness. Members need to use Darwin  Box for applying below \\nmentioned leaves as per terms and conditions mentioned in the Company P olicy . \\n \\nLEAVE  TYPES:  \\n \\nEL - Earned  Privileged  Leave  ML - Maternity  Leave  \\nPL - Paternity  Leave  UL - Unpaid  Leave  \\nCO - Compensatory  Off WL - Wedding  Leave  \\nBL - Birthday  Leave  FC - Female  Special  Care Leave  \\n \\n \\n EL WL ML BL PL FC \\n   Female   All male \\nMembers.   \\n   members   - 4 Days   \\n   according  to  falling   \\nEligibility  All All provisions  of All Members  immediately  All \\n Members.  Members  Maternity   before/after  / female  \\n   Benefit  Act  during  birth members  \\n   (For first  of child.   \\n   2  (For first 2  \\n   children)   Children)   \\n      Only  1 leave  \\nEntitlement  2 EL \\nPer \\nMonth  3 Days  180 Days  1 Day 4 Days  each month \\n(will lapse \\nevery  month  if \\nunconsumed)', start_char_idx=0, end_char_idx=1694, text_template='{metadata_str}\\n\\n{content}', metadata_template='{key}: {value}', metadata_seperator='\\n'), score=0.8066038030227008)], metadata={'09a58a34-be4b-472b-8a86-3b19cdcd1139': {'page_label': '3', 'file_name': 'Leave Policy.pdf', 'file_path': '/Users/anujjindal/AppDevelopment/p/HRBuddy/data/Leave Policy.pdf', 'file_type': 'application/pdf', 'file_size': 230562, 'creation_date': '2024-04-26', 'last_modified_date': '2024-04-26'}, 'a668a316-977e-49f7-93c4-9c48b47eab83': {'page_label': '1', 'file_name': 'Leave Policy.pdf', 'file_path': '/Users/anujjindal/AppDevelopment/p/HRBuddy/data/Leave Policy.pdf', 'file_type': 'application/pdf', 'file_size': 230562, 'creation_date': '2024-04-26', 'last_modified_date': '2024-04-26'}})"
      ]
     },
     "execution_count": 15,
     "metadata": {},
     "output_type": "execute_result"
    }
   ],
   "source": [
    "response=query_engine.query(\"What is Eaned Leave Encachement?\")\n",
    "response"
   ]
  },
  {
   "cell_type": "code",
   "execution_count": 16,
   "metadata": {},
   "outputs": [
    {
     "name": "stdout",
     "output_type": "stream",
     "text": [
      "Earned Leave Encashment refers to the process where earned leave that has not been utilized by an employee is converted into monetary compensation at the end of the financial year based on specific conditions outlined in the policy.\n"
     ]
    }
   ],
   "source": [
    "print(response)"
   ]
  },
  {
   "cell_type": "code",
   "execution_count": 18,
   "metadata": {},
   "outputs": [],
   "source": [
    "from llama_index.core.response.pprint_utils import pprint_response"
   ]
  },
  {
   "cell_type": "code",
   "execution_count": 22,
   "metadata": {},
   "outputs": [
    {
     "name": "stdout",
     "output_type": "stream",
     "text": [
      "Final Response: Earned Leave Encashment refers to the process where\n",
      "earned leave that has not been utilized by an employee is converted\n",
      "into monetary compensation at the end of the financial year based on\n",
      "specific conditions outlined in the policy.\n",
      "______________________________________________________________________\n",
      "Source Node 1/2\n",
      "Node ID: 09a58a34-be4b-472b-8a86-3b19cdcd1139\n",
      "Similarity: 0.844845642783128\n",
      "Text: Page  3 of 4  ➢  Earned  Leave  Encashment:  Earned  Leave  will\n",
      "be automatically  encashed  at the end of the financial  year\n",
      "according to conditions mentioned below.   • At the end of financial\n",
      "year,  according  to the earned  leave  balance   1. Up to 8 EL  will\n",
      "be carried  forward.   2. After  removing  Carried  forward  leaves,\n",
      "from  rem...\n",
      "______________________________________________________________________\n",
      "Source Node 2/2\n",
      "Node ID: a668a316-977e-49f7-93c4-9c48b47eab83\n",
      "Similarity: 0.8066038030227008\n",
      "Text: Page  1 of 4      LEAVE  POLICY     Document  History   Policy\n",
      "Version  Policy  Distribution  Effective  Date  and Revision   4.0 All\n",
      "Members  4th October  2022   6th March  2023   16th September  2023\n",
      "6th January 2024       INTRODUCTION:   Physics Wallah  believes that\n",
      "members should have opportunities to enjoy time away from work to\n",
      "help...\n"
     ]
    }
   ],
   "source": [
    "pprint_response(response,show_source=True)"
   ]
  },
  {
   "cell_type": "code",
   "execution_count": 27,
   "metadata": {},
   "outputs": [],
   "source": [
    "from llama_index.core.retrievers import VectorIndexRetriever\n",
    "from llama_index.core.query_engine import RetrieverQueryEngine\n",
    "from llama_index.core.postprocessor import SimilarityPostprocessor\n",
    "\n",
    "retriever=VectorIndexRetriever(index=index,similarity_top_k=4)\n",
    "postprocessor=SimilarityPostprocessor(similarity_cutoff=0.80)\n",
    "\n",
    "query_engine=RetrieverQueryEngine(retriever=retriever,\n",
    "                                  node_postprocessors=[postprocessor])"
   ]
  },
  {
   "cell_type": "code",
   "execution_count": 36,
   "metadata": {},
   "outputs": [],
   "source": [
    "import os.path\n",
    "from llama_index.core import (\n",
    "    VectorStoreIndex,\n",
    "    SimpleDirectoryReader,\n",
    "    StorageContext,\n",
    "    load_index_from_storage,\n",
    ")\n",
    "\n",
    "# check if storage already exists\n",
    "PERSIST_DIR = \"./storage\"\n",
    "if not os.path.exists(PERSIST_DIR):\n",
    "    # load the documents and create the index\n",
    "    documents = SimpleDirectoryReader(\"data\").load_data()\n",
    "    index = VectorStoreIndex.from_documents(documents)\n",
    "    # store it for later\n",
    "    index.storage_context.persist(persist_dir=PERSIST_DIR)\n",
    "else:\n",
    "    # load the existing index\n",
    "    storage_context = StorageContext.from_defaults(persist_dir=PERSIST_DIR)\n",
    "    index = load_index_from_storage(storage_context)"
   ]
  },
  {
   "cell_type": "code",
   "execution_count": 37,
   "metadata": {},
   "outputs": [
    {
     "name": "stdout",
     "output_type": "stream",
     "text": [
      "[Document(id_='1ef6a308-5dbc-4820-a294-00fb3f4ec7d8', embedding=None, metadata={'page_label': '1', 'file_name': 'Leave Policy.pdf', 'file_path': '/Users/anujjindal/AppDevelopment/p/HRBuddy/data/Leave Policy.pdf', 'file_type': 'application/pdf', 'file_size': 230562, 'creation_date': '2024-04-26', 'last_modified_date': '2024-04-26'}, excluded_embed_metadata_keys=['file_name', 'file_type', 'file_size', 'creation_date', 'last_modified_date', 'last_accessed_date'], excluded_llm_metadata_keys=['file_name', 'file_type', 'file_size', 'creation_date', 'last_modified_date', 'last_accessed_date'], relationships={}, text='Page  1 of 4   \\n \\nLEAVE  POLICY  \\n \\nDocument  History  \\nPolicy  Version  Policy  Distribution  Effective  Date  and Revision  \\n4.0 All Members  4th October  2022  \\n6th March  2023  \\n16th September  2023  \\n  \\n6th January 2024  \\n \\n \\nINTRODUCTION:  \\nPhysics Wallah  believes that members should have opportunities to enjoy time away from work to help balance their \\nprofessional and personal lives. The Company encourages all members to spend time with family for leisure, taking \\ncare of personal work,  or rest due  to medical reasons.  The policy outlines  the applicability,  rules  and procedures  with \\nregard to consumption and approval of leave.  \\n \\nOBJECTIVE:  \\nThis policy provides the members of Physics Wallah with time to rejuvenate themselves, reduce the stress of work, \\nbalance their work & personal lives, and recover from illness. Members need to use Darwin  Box for applying below \\nmentioned leaves as per terms and conditions mentioned in the Company P olicy . \\n \\nLEAVE  TYPES:  \\n \\nEL - Earned  Privileged  Leave  ML - Maternity  Leave  \\nPL - Paternity  Leave  UL - Unpaid  Leave  \\nCO - Compensatory  Off WL - Wedding  Leave  \\nBL - Birthday  Leave  FC - Female  Special  Care Leave  \\n \\n \\n EL WL ML BL PL FC \\n   Female   All male \\nMembers.   \\n   members   - 4 Days   \\n   according  to  falling   \\nEligibility  All All provisions  of All Members  immediately  All \\n Members.  Members  Maternity   before/after  / female  \\n   Benefit  Act  during  birth members  \\n   (For first  of child.   \\n   2  (For first 2  \\n   children)   Children)   \\n      Only  1 leave  \\nEntitlement  2 EL \\nPer \\nMonth  3 Days  180 Days  1 Day 4 Days  each month \\n(will lapse \\nevery  month  if \\nunconsumed)  \\n', start_char_idx=None, end_char_idx=None, text_template='{metadata_str}\\n\\n{content}', metadata_template='{key}: {value}', metadata_seperator='\\n'), Document(id_='736f0d8f-961c-4155-8b1c-cef4a8f94341', embedding=None, metadata={'page_label': '2', 'file_name': 'Leave Policy.pdf', 'file_path': '/Users/anujjindal/AppDevelopment/p/HRBuddy/data/Leave Policy.pdf', 'file_type': 'application/pdf', 'file_size': 230562, 'creation_date': '2024-04-26', 'last_modified_date': '2024-04-26'}, excluded_embed_metadata_keys=['file_name', 'file_type', 'file_size', 'creation_date', 'last_modified_date', 'last_accessed_date'], excluded_llm_metadata_keys=['file_name', 'file_type', 'file_size', 'creation_date', 'last_modified_date', 'last_accessed_date'], relationships={}, text='Page  2 of 4   \\n \\nNote:  To Avail  Wedding  Leave,  Paternity  Leave  and Maternity  Leave  your  gender  and marital  status  should \\nbe updated.  \\n \\n \\n➢  Compensatory Off : Comp -off will be credited  to only those  members  who have worked  on a paid holiday  or \\nweek -off. \\nMembers must make sure that you mark your attendance through Darwin Box on the same day and get it \\napproved  by Reporting  manager  to add Comp -off leave  to your Comp -Off Balance  on Darwin  Box. \\nPlease refer to the below mentioned links to know how to mark  attendance:  \\n \\n✓ Click  Here  to See how to mark  attendance  for members  who work  from  home  or work  in hybrid  mode  \\n✓  Click  Here  to see how to mark  attendance  for members  who are working  from  specific  \\nlocations (Vidyapeeth/Pathshala /Corporate Office/Branch Office/ Studio,Etc)  \\n✓ Click  here to see how to mark  backdated  attendance  \\n \\nPlease  note: Members  will not be able to mark  backdated  attendance  on Paid Holidays  or Week  offs via \\nDarwin Box. Kindly make  sure that you mark your attendance on the same working day.  \\n \\nYou can regularize  any pending  attendance  within  7 days  only. \\n \\n• The Reporting  Managers  can approve/reject  the Comp -off Requests  by following  the below  mentioned \\nsteps: “Log in to DarwinBox >Open Task Box > select Overtime/Comp -Off Request > \\nApprove/Reject .” \\n \\n• Once  Reporting  Manager  approves  members  Comp -Off request,  Member’s  comp -off leave  will be added  to \\nmember’s Comp Off balance which will be visible in the Leave tab of DarwinBox. You can follow these \\nsteps to  see comp off balance:  “Log in to DarwinBox  > On your  dashboard select  “Leave ” Tab>  Check out \\n“Comp Off” to know Leave balance .” \\n \\n• You can refer  to link  mentioned  ahead  to see how to mark  leaves.  Click  Here  to see how to  mark  Leave  \\nPurpose  / \\nNature  \\nAll \\nPurpose \\nLeave.  \\nFor \\nmember’s \\nself- \\nmarriage.  \\nFor pre & \\npost-natal \\ncare during \\npregnancy \\n& \\nconfinement.  \\nFor taking care \\nFor members  \\nSelf \\nBirthday.  \\nof matters \\npertaining  to \\nbirth of new  \\nborn.  \\nFor taking  care \\nand proper  rest \\nduring their \\nmenstrual  \\ncycle.  \\nEncashment  \\nMaximum  8 \\nLeaves can \\nbe encashed  \\nMaximum  8 \\nleaves can \\nbe \\ncarried  \\nforwarded  \\nNot \\nApplicable  Not Applicable  \\nNot \\nApplicabl \\ne \\nNot Applicable  Not Applicable  \\nAccumulation  \\nNot \\nApplicable  Not Applicable  \\nNot \\nApplicabl  \\ne \\nNot Applicable  Not Applicable  ', start_char_idx=None, end_char_idx=None, text_template='{metadata_str}\\n\\n{content}', metadata_template='{key}: {value}', metadata_seperator='\\n'), Document(id_='b15224bd-30e4-44ac-82ee-776092374887', embedding=None, metadata={'page_label': '3', 'file_name': 'Leave Policy.pdf', 'file_path': '/Users/anujjindal/AppDevelopment/p/HRBuddy/data/Leave Policy.pdf', 'file_type': 'application/pdf', 'file_size': 230562, 'creation_date': '2024-04-26', 'last_modified_date': '2024-04-26'}, excluded_embed_metadata_keys=['file_name', 'file_type', 'file_size', 'creation_date', 'last_modified_date', 'last_accessed_date'], excluded_llm_metadata_keys=['file_name', 'file_type', 'file_size', 'creation_date', 'last_modified_date', 'last_accessed_date'], relationships={}, text='Page  3 of 4  ➢  Earned  Leave  Encashment:  Earned  Leave  will be automatically  encashed  at the end of the financial  year \\naccording to conditions mentioned below.  \\n• At the end of financial  year,  according  to the earned  leave  balance  \\n1. Up to 8 EL  will be carried  forward.  \\n2. After  removing  Carried  forward  leaves,  from  remaining  balance  up to 8 leaves  will be encashed.  \\n3. After  removing  carried  forward  and encashed  leave,  all remaining  earned  leave  will lapse.  \\n• For Example:  \\n1. If a member  has 20 EL, then 8 leaves will  be carried  forward,  8 leaves  will be  encashed  and remaining  4 \\nleaves will be lapsed.  \\n2. If member has  12 EL, then 8 leaves  will be carried  forward  and 4 leaves  will be encashed.  \\n3. If member  has 7 EL, then all 7 leaves  will be carried  forward.  \\n \\n• Special  Notes : \\n1. The encashment  amount  will be calculated on  basic  component  of the CTC  for members.  \\n2. For Consultants,  40% of earned  gross  will be provided  for leave  encashment.  \\n3. Members  who have “No work  pattern”  or “single  punch”  shift assigned  in attendance  module  of \\nDarwinBox will not be eligible for Leave  encashment.  \\n4. Trainees  and Interns  are not eligible  for Leave  encashment.  \\n5. For Members  who resigned  in middle  of the financial  year,  Earned  leaves  up to 8 leaves  will be \\nencashed accordingly.  \\n \\nGENERAL REGULATIONS:  \\n \\nLeaves are offered as a privilege to Members to maintain work life balance hence before availing leaves \\nMember should  ensure  that there is nil impact on department and other relevant work. Members should avail \\nleave/s  with prior  permission of  reporting  manager  always  at least 1 week  in advance.  Leave/s  availed  without \\npermission will be considered as a wrong practice and those days will be marked as UL/Absent.  \\n \\n➢  Effective from 1st October 2023 , any new  member(except interns) joining the company will be able \\nto utilize only 1 Earned Leave (EL) per month during their probation period . After successful \\ncompletion  of the probation  period,  from  their date of confirmation  they will then be eligible  for two (2) \\nearned leave per month.  \\n➢  Effective from 1st October 2023 , members on probation shall not be eligible for Birthday leave, \\nFemale special care leave and Wedding leave. Upon Confirmation, the members will be eligible for the \\nabove mentioned leaves.  \\n \\n➢ Effective  from  1st October  2023 , any new Intern  will not be eligible  for any kind of Leave.  \\n➢  For Vidyapeeth  Faculties,  the faculty  member  must  apply  Earned  leave  before  Thursday  for the next week’s \\nplanned  leave.  Leave  applied  on/after  Thursday  will be considered  as unplanned/emergency  leave  and up to \\n3 unplanned/emergency instances will be accepted. After 3 unplanned/emergency instances, any further \\nunplanned/emergency  leaves applied will  be considered as unpaid  and salary will  be deducted accordingly.  \\n \\n➢ All leaves  will be added  on pro rata basis  excluding  wedding, maternity and  paternity  leave.  \\n \\n➢  Sandwich  Rule  – This rule states  that if a member  is absent  before  and after their weekly -off or holiday,  \\nthe weekly -off or the holiday will be considered as an unpaid leave. And these three days are considered \\nas unpaid. For example,  if a member’s  weekly -off is Sunday,  but the  member  did not mark  his attendance \\nor did not apply for leave  for Saturday and Monday then Sunday will also be considered as a Loss of Pay \\n(LOP).  ', start_char_idx=None, end_char_idx=None, text_template='{metadata_str}\\n\\n{content}', metadata_template='{key}: {value}', metadata_seperator='\\n'), Document(id_='810609c7-fbbd-4bf4-83f4-1487892dbd39', embedding=None, metadata={'page_label': '4', 'file_name': 'Leave Policy.pdf', 'file_path': '/Users/anujjindal/AppDevelopment/p/HRBuddy/data/Leave Policy.pdf', 'file_type': 'application/pdf', 'file_size': 230562, 'creation_date': '2024-04-26', 'last_modified_date': '2024-04-26'}, excluded_embed_metadata_keys=['file_name', 'file_type', 'file_size', 'creation_date', 'last_modified_date', 'last_accessed_date'], excluded_llm_metadata_keys=['file_name', 'file_type', 'file_size', 'creation_date', 'last_modified_date', 'last_accessed_date'], relationships={}, text='Page  4 of 4   \\n➢  Maternity  Benefit  - This Leave  Policy  is aligned  to Maternity  Benefit  Act 2017.  All women  Members  who \\nhave completed  80 days of continuous  service  with the Organization are  eligible  for Maternity  Leave,  as per \\nthe Statutory Act. Maximum period of maternity leave on any one occasion is 26 weeks (with full pay).  \\nMaternity  Leave  may be combined  with other  entitlements  of leave.  This benefit  can be used only for  up \\nto two children.  \\n \\n➢  Members  need to use Darwin Box login to apply leaves. Taking approval of reporting manager on  applied \\nleave  is a responsibility  of a member,  hence  Member  must  ensure  timely  approval on  applied  leaves  before \\nclosing  of each month  attendance  cycle  (21st of Every  month)  otherwise  it will be considered  as UL/Absent.  \\n \\n➢  If an extension of leave is desired after the Members proceed on leave, scanned copy of a written \\napplication must be sent  over email to the reporting  manager  and concerned  supervisor well  in advance  \\nfor him/her  to reply  before  the expiry  of leave  already  granted. Any  absence,  beyond  sanctioned  leave,  will \\nbe treated as unauthorized absence and action  as deemed fit would be initiated against the Member.  \\n \\n➢ Leaves  availed  excess  of leave  balance  will be considered  as absent/unpaid  leave.  \\n \\n➢  Leaves are calculated on Financial Year basis i.e. from 1st April to 31st March. Two EL are credited at the \\nbeginning of each month and other leaves are credited as per reporting Manager approval based on nature of \\nevent.  \\n \\n➢  Even though 2 EL are credited in each month, leaves should be utilized consciously with proper planning as \\nleave entitlement is subject to completion of employment for the whole month. If employment is to end \\nbefore last day of the month by any reason, member is entitled for leaves on pro -rata basis. If leaves are \\nutilized  more than entitlement, amount would be recovered  during  full and final settlement on gross  salary  in \\nlieu of excess utilized leaves.  \\n \\n➢ An member  requiring  short -leave  of more  than two hours  must  apply  for a half-day leave.  \\n \\n➢ Pro-Rata formula  will be applicable  as follow  while  working  eligibility  at the time of joining  and leaving. \\no Days  Less Than  11 days – Nil Leaves,  Days  Between  11 to 20 – 1 EL, Days  more  than 20 – 2 ELs \\n \\n➢  Member  cannot  avail  leave/s  while  serving  notice  period,  absenteeism  during  notice  period  will be treated  as \\nabsent/UL as well as short of notice; amount will be recovered in full and final settlement in lieu of short \\nnotice on gross salary.  \\n \\nIf you have any doubts  or questions  regarding  leave  policy,  please  get in touch  with Payroll  Team  Email  ID - \\npayroll@pw.live  \\n \\n \\nAny changes in the above policy will be at the sole discretion of the Management . The policy is created for \\nenhancing good work culture for the members. Any  undue advantage taken by this policy by any member will be \\nreflecting  on individuals  work  ethics  and he/sh e can be terminated  by the misuse  of the same.  ', start_char_idx=None, end_char_idx=None, text_template='{metadata_str}\\n\\n{content}', metadata_template='{key}: {value}', metadata_seperator='\\n'), Document(id_='448f091c-0733-40ea-ade3-00c550c5dfc2', embedding=None, metadata={'page_label': '1', 'file_name': 'Wedding Gift Policy - April 2024.pdf', 'file_path': '/Users/anujjindal/AppDevelopment/p/HRBuddy/data/Wedding Gift Policy - April 2024.pdf', 'file_type': 'application/pdf', 'file_size': 81708, 'creation_date': '2024-04-26', 'last_modified_date': '2024-04-26'}, excluded_embed_metadata_keys=['file_name', 'file_type', 'file_size', 'creation_date', 'last_modified_date', 'last_accessed_date'], excluded_llm_metadata_keys=['file_name', 'file_type', 'file_size', 'creation_date', 'last_modified_date', 'last_accessed_date'], relationships={}, text=\" \\n1 \\n \\n \\nWedding  Gift Policy  \\n \\nDepartment Owner: Human Resources  Policy Effective From: 01st April 2024  \\nPolicy Change Status  \\nPolicy Version  Revision Dates  Prepared by  Reviewed by  Approved by  Changes \\ntype \\n3.0 1st April 2022  \\nKamesh Isame  Kishor Shelke  \\nPriya Mishra  Ganesh Jadhav  Eligibility \\nCriteria  21st September 2023  \\n1st April 2024  \\n \\n1. Objective  \\nMarriage is a significant milestone in an individual's life, and when it involves a member of the \\nPhysicswallah (hereinafter “PW”) family, it becomes an occasion of special significance to us. \\nTo honor and congratulate our members and their partners on thi s joyous occasion, PW family \\nextends a tangible gesture in the form of a wedding  gift. \\n \\n2. Eligibility Criteria for availing the wedding  gift \\nIn order to qualify for the wedding  gift provided by Physicswallah (PW), member s must meet \\nthe following criteria:  \\na) This Policy is applicable only to  full-time members.  \\nb) Member(s) must be confirmed members who have successfully completed their \\nprobationary period and have been employed with PW for a minimum of six months \\nfrom their date of joining, both on the day of the wedding and at the time of wedding  \\ngift disbursement.  \\nc) Member(s) with total compensation (CTC) below Five (5) Lakhs are eligible to receive \\nthe wedding gift.  \\nd) The wedding  gift is payable only for the first marriage during a member’s lifetime.  \\ne) Member(s) must not have previously availed themselves of this wedding  gift. \\nf) Member(s) should not be serving their notice period either on the wedding date or at \\nthe time of disbursement of the wedding  gift amount . \\ng) Claims for the wedding  gift must be submitted within three months of the wedding  \\ndate; otherwise, the benefit shall not be applicable and shall lapse.  \\nh) This policy shall be effective for all marriages occurring on or after the 1st of April \\n2024.  \\n \\n3. Process for availing the Wedding Gift  \\nTo facilitate the disbursement of the wedding  gift in a systematic manner, the following process \\nis to be observed:  \\na) Members are mandated to furnish documentary evidence of their marriage, inclu ding \\nthe wedding invitation card, wedding photograph, and marriage registration certificate.  \\nb) The gift amount shall be subject to a maximum of Indian Rupees Ten thousand \\n(₹10,000/ -) only , with the final determination subject to the discretion of the Company \\nand the management.  \\nc) Members are required to submit all necessary documentation within three (3) months \\nof the wedding  date to avail themselves of the  wedding gift disbursement.  \\nd) The wedding  gift amount shall be disbursed in the salary of the month following the \", start_char_idx=None, end_char_idx=None, text_template='{metadata_str}\\n\\n{content}', metadata_template='{key}: {value}', metadata_seperator='\\n'), Document(id_='927a512f-742b-4894-ab2a-7630f76141f4', embedding=None, metadata={'page_label': '2', 'file_name': 'Wedding Gift Policy - April 2024.pdf', 'file_path': '/Users/anujjindal/AppDevelopment/p/HRBuddy/data/Wedding Gift Policy - April 2024.pdf', 'file_type': 'application/pdf', 'file_size': 81708, 'creation_date': '2024-04-26', 'last_modified_date': '2024-04-26'}, excluded_embed_metadata_keys=['file_name', 'file_type', 'file_size', 'creation_date', 'last_modified_date', 'last_accessed_date'], excluded_llm_metadata_keys=['file_name', 'file_type', 'file_size', 'creation_date', 'last_modified_date', 'last_accessed_date'], relationships={}, text=\" \\n2 \\n \\nsubmission and approval of all relevant and mandatory documents.  \\ne) It is important to note that the wedding gift disbursement timing is contingent upon the \\ntimely submission and approval of the required documents by the HR department.  \\n \\nAny modifications to this policy will be at the sole discretion of the Company and the Management. \\nThis Policy was established to foster a positive work culture for our members. Any abuse or misuse of \\nthis policy will be considered a reflection of an indiv idual's work ethics, and appropriate disciplinary \\naction will be taken.  \\n \\nPW congratulates all members on their wedding and extends our warmest wishes for a blissful journey \\nahead.  \\n \\nFor any queries or clarifications on this Policy, members may reach out to the HR Department.  \\n \", start_char_idx=None, end_char_idx=None, text_template='{metadata_str}\\n\\n{content}', metadata_template='{key}: {value}', metadata_seperator='\\n')]\n"
     ]
    }
   ],
   "source": [
    "print(documents)"
   ]
  },
  {
   "cell_type": "code",
   "execution_count": 38,
   "metadata": {},
   "outputs": [
    {
     "name": "stdout",
     "output_type": "stream",
     "text": [
      "The eligibility criteria for availing the wedding gift include being a full-time confirmed member who has completed the probationary period, having been employed with the company for a minimum of six months, having a total compensation below Five Lakhs, it is the first marriage during the member's lifetime, not having previously availed of the wedding gift, not serving the notice period during the wedding date or gift disbursement, submitting claims within three months of the wedding date, and the policy being effective for marriages occurring on or after the 1st of April 2024.\n"
     ]
    }
   ],
   "source": [
    "# either way we can now query the index\n",
    "query_engine = index.as_query_engine()\n",
    "response = query_engine.query(\"What is the eligibility criteria for weeding gift?\")\n",
    "print(response)"
   ]
  },
  {
   "cell_type": "code",
   "execution_count": 31,
   "metadata": {},
   "outputs": [
    {
     "name": "stdout",
     "output_type": "stream",
     "text": [
      "Final Response: Transformers are devices used to transfer electrical\n",
      "energy between two or more circuits through electromagnetic induction.\n",
      "They typically consist of two coils of wire, known as the primary and\n",
      "secondary coils, which are magnetically coupled but electrically\n",
      "isolated. Transformers are commonly used in electrical power\n",
      "distribution systems to step up or step down voltage levels for\n",
      "efficient transmission and distribution of electricity.\n",
      "______________________________________________________________________\n",
      "Source Node 1/2\n",
      "Node ID: 60cfdfbd-bb47-4296-bc0e-a4a38ee8bebf\n",
      "Similarity: 0.6845283490922601\n",
      "Text: Page  1 of 4      LEAVE  POLICY     Document  History   Policy\n",
      "Version  Policy  Distribution  Effective  Date  and Revision   4.0 All\n",
      "Members  4th October  2022   6th March  2023   16th September  2023\n",
      "6th January 2024       INTRODUCTION:   Physics Wallah  believes that\n",
      "members should have opportunities to enjoy time away from work to\n",
      "help...\n",
      "______________________________________________________________________\n",
      "Source Node 2/2\n",
      "Node ID: 84a992ad-1a62-4598-89fe-b25ba8234cac\n",
      "Similarity: 0.6661867664490431\n",
      "Text: Page  2 of 4      Note:  To Avail  Wedding  Leave,  Paternity\n",
      "Leave  and Maternity  Leave  your  gender  and marital  status  should\n",
      "be updated.       ➢  Compensatory Off : Comp -off will be credited  to\n",
      "only those  members  who have worked  on a paid holiday  or  week\n",
      "-off.  Members must make sure that you mark your attendance through\n",
      "Darwin ...\n"
     ]
    }
   ],
   "source": [
    "pprint_response(response,show_source=True)"
   ]
  },
  {
   "cell_type": "code",
   "execution_count": 39,
   "metadata": {},
   "outputs": [
    {
     "name": "stdout",
     "output_type": "stream",
     "text": [
      "The amount given as a wedding gift is subject to a maximum of Indian Rupees Ten thousand (₹10,000/-) only.\n"
     ]
    }
   ],
   "source": [
    "response = query_engine.query(\"What is amount given as wedding gift?\")\n",
    "print(response)"
   ]
  },
  {
   "cell_type": "code",
   "execution_count": 40,
   "metadata": {},
   "outputs": [
    {
     "name": "stdout",
     "output_type": "stream",
     "text": [
      "Final Response: The amount given as a wedding gift is subject to a\n",
      "maximum of Indian Rupees Ten thousand (₹10,000/-) only.\n",
      "______________________________________________________________________\n",
      "Source Node 1/2\n",
      "Node ID: eeedb66f-de21-4bf3-95e6-80f51a03ac77\n",
      "Similarity: 0.7971192184353787\n",
      "Text: 1      Wedding  Gift Policy     Department Owner: Human\n",
      "Resources  Policy Effective From: 01st April 2024   Policy Change\n",
      "Status   Policy Version  Revision Dates  Prepared by  Reviewed by\n",
      "Approved by  Changes  type  3.0 1st April 2022   Kamesh Isame  Kishor\n",
      "Shelke   Priya Mishra  Ganesh Jadhav  Eligibility  Criteria  21st\n",
      "September 2023   1st A...\n",
      "______________________________________________________________________\n",
      "Source Node 2/2\n",
      "Node ID: 92c1eec5-dba0-40c4-8fb8-095a2df86be5\n",
      "Similarity: 0.7850182436049322\n",
      "Text: 2    submission and approval of all relevant and mandatory\n",
      "documents.   e) It is important to note that the wedding gift\n",
      "disbursement timing is contingent upon the  timely submission and\n",
      "approval of the required documents by the HR department.     Any\n",
      "modifications to this policy will be at the sole discretion of the\n",
      "Company and the Management. ...\n"
     ]
    }
   ],
   "source": [
    "pprint_response(response,show_source=True)"
   ]
  }
 ],
 "metadata": {
  "kernelspec": {
   "display_name": "hr_buddy",
   "language": "python",
   "name": "hr_buddy"
  },
  "language_info": {
   "codemirror_mode": {
    "name": "ipython",
    "version": 3
   },
   "file_extension": ".py",
   "mimetype": "text/x-python",
   "name": "python",
   "nbconvert_exporter": "python",
   "pygments_lexer": "ipython3",
   "version": "3.12.3"
  }
 },
 "nbformat": 4,
 "nbformat_minor": 4
}
